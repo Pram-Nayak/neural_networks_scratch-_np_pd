{
 "cells": [
  {
   "cell_type": "markdown",
   "metadata": {},
   "source": [
    "\n",
    "Why are we building the neural networks from scratch? Because when TensorFlow is used, we can't get to know how they work. So when we know how they work, then we can enjoy.\n",
    "\n",
    "Here we are using a digit classification dataset called MNIST dataset.\n",
    "In this, there are 28 by 28 low resolution, hand-written digits, 10 to 1000 of these low.\n",
    "\n",
    "Here we classify the images of what image we are passing that classifies images of hand-written digits.\n",
    "\n"
   ]
  },
  {
   "cell_type": "markdown",
   "metadata": {},
   "source": [
    "# Neural Network for Image Classification\n",
    "\n",
    "## Understanding the Input Data\n",
    "- We are using **28 x 28 pixel images**, which equals **784 pixels** per image.\n",
    "- Each pixel value ranges from **0 to 255**, where **255 represents white** and **0 represents black**.\n",
    "- We have **m training images**, each represented as a matrix.\n",
    "\n",
    "## Representation of Data\n",
    "- Each **row** represents an example.\n",
    "- We have a **matrix** where each row contains **784 columns**, with each column corresponding to a pixel in the image.\n",
    "- We **transpose** the matrix so that **each column** represents an example.\n",
    "- After transposing:\n",
    "  - Each **column** contains **784 rows**.\n",
    "  - The matrix has **784 rows and m columns**.\n",
    "\n",
    "## Neural Network Architecture\n",
    "- We build a **two-layer neural network**:\n",
    "  1. **Input Layer**:\n",
    "     - Contains **784 nodes** (one for each pixel).\n",
    "  2. **Hidden Layer**:\n",
    "     - Contains **10 nodes**.\n",
    "  3. **Output Layer**:\n",
    "     - Contains **10 nodes**, representing the possible digits (0-9).\n"
   ]
  },
  {
   "cell_type": "markdown",
   "metadata": {},
   "source": [
    "# Key Points\n",
    "\n",
    "- **ReLU Activation**: Applied to the **hidden layer**, allowing for **non-linear transformations**.\n",
    "- **Softmax Activation**: Used for the **output layer** to convert raw class scores into **probabilities**.\n",
    "- **One-Hot Encoding**: Converts **categorical labels** into a **binary matrix format**, making it suitable for multi-class classification problems.\n",
    "- **Learning Rate (α)**: Controls how much to update the weights with respect to the **gradient**.\n"
   ]
  },
  {
   "cell_type": "code",
   "execution_count": 3,
   "metadata": {
    "execution": {
     "iopub.execute_input": "2024-09-01T04:52:31.507050Z",
     "iopub.status.busy": "2024-09-01T04:52:31.506562Z",
     "iopub.status.idle": "2024-09-01T04:52:31.516667Z",
     "shell.execute_reply": "2024-09-01T04:52:31.515186Z",
     "shell.execute_reply.started": "2024-09-01T04:52:31.507007Z"
    },
    "trusted": true
   },
   "outputs": [],
   "source": [
    "import numpy as np\n",
    "import pandas as pd\n",
    "\n",
    "from matplotlib import pyplot as plt\n",
    "\n"
   ]
  },
  {
   "cell_type": "code",
   "execution_count": 8,
   "metadata": {
    "execution": {
     "iopub.execute_input": "2024-09-01T04:52:31.519569Z",
     "iopub.status.busy": "2024-09-01T04:52:31.518628Z",
     "iopub.status.idle": "2024-09-01T04:52:34.893007Z",
     "shell.execute_reply": "2024-09-01T04:52:34.891832Z",
     "shell.execute_reply.started": "2024-09-01T04:52:31.519515Z"
    },
    "trusted": true
   },
   "outputs": [],
   "source": [
    "data = pd.read_csv('nnfs_data/train.csv')\n"
   ]
  },
  {
   "cell_type": "code",
   "execution_count": 9,
   "metadata": {
    "execution": {
     "iopub.execute_input": "2024-09-01T04:52:34.896015Z",
     "iopub.status.busy": "2024-09-01T04:52:34.895623Z",
     "iopub.status.idle": "2024-09-01T04:52:34.917855Z",
     "shell.execute_reply": "2024-09-01T04:52:34.916469Z",
     "shell.execute_reply.started": "2024-09-01T04:52:34.895976Z"
    },
    "trusted": true
   },
   "outputs": [
    {
     "data": {
      "text/html": [
       "<div>\n",
       "<style scoped>\n",
       "    .dataframe tbody tr th:only-of-type {\n",
       "        vertical-align: middle;\n",
       "    }\n",
       "\n",
       "    .dataframe tbody tr th {\n",
       "        vertical-align: top;\n",
       "    }\n",
       "\n",
       "    .dataframe thead th {\n",
       "        text-align: right;\n",
       "    }\n",
       "</style>\n",
       "<table border=\"1\" class=\"dataframe\">\n",
       "  <thead>\n",
       "    <tr style=\"text-align: right;\">\n",
       "      <th></th>\n",
       "      <th>label</th>\n",
       "      <th>pixel0</th>\n",
       "      <th>pixel1</th>\n",
       "      <th>pixel2</th>\n",
       "      <th>pixel3</th>\n",
       "      <th>pixel4</th>\n",
       "      <th>pixel5</th>\n",
       "      <th>pixel6</th>\n",
       "      <th>pixel7</th>\n",
       "      <th>pixel8</th>\n",
       "      <th>...</th>\n",
       "      <th>pixel774</th>\n",
       "      <th>pixel775</th>\n",
       "      <th>pixel776</th>\n",
       "      <th>pixel777</th>\n",
       "      <th>pixel778</th>\n",
       "      <th>pixel779</th>\n",
       "      <th>pixel780</th>\n",
       "      <th>pixel781</th>\n",
       "      <th>pixel782</th>\n",
       "      <th>pixel783</th>\n",
       "    </tr>\n",
       "  </thead>\n",
       "  <tbody>\n",
       "    <tr>\n",
       "      <th>0</th>\n",
       "      <td>1</td>\n",
       "      <td>0</td>\n",
       "      <td>0</td>\n",
       "      <td>0</td>\n",
       "      <td>0</td>\n",
       "      <td>0</td>\n",
       "      <td>0</td>\n",
       "      <td>0</td>\n",
       "      <td>0</td>\n",
       "      <td>0</td>\n",
       "      <td>...</td>\n",
       "      <td>0</td>\n",
       "      <td>0</td>\n",
       "      <td>0</td>\n",
       "      <td>0</td>\n",
       "      <td>0</td>\n",
       "      <td>0</td>\n",
       "      <td>0</td>\n",
       "      <td>0</td>\n",
       "      <td>0</td>\n",
       "      <td>0</td>\n",
       "    </tr>\n",
       "    <tr>\n",
       "      <th>1</th>\n",
       "      <td>0</td>\n",
       "      <td>0</td>\n",
       "      <td>0</td>\n",
       "      <td>0</td>\n",
       "      <td>0</td>\n",
       "      <td>0</td>\n",
       "      <td>0</td>\n",
       "      <td>0</td>\n",
       "      <td>0</td>\n",
       "      <td>0</td>\n",
       "      <td>...</td>\n",
       "      <td>0</td>\n",
       "      <td>0</td>\n",
       "      <td>0</td>\n",
       "      <td>0</td>\n",
       "      <td>0</td>\n",
       "      <td>0</td>\n",
       "      <td>0</td>\n",
       "      <td>0</td>\n",
       "      <td>0</td>\n",
       "      <td>0</td>\n",
       "    </tr>\n",
       "    <tr>\n",
       "      <th>2</th>\n",
       "      <td>1</td>\n",
       "      <td>0</td>\n",
       "      <td>0</td>\n",
       "      <td>0</td>\n",
       "      <td>0</td>\n",
       "      <td>0</td>\n",
       "      <td>0</td>\n",
       "      <td>0</td>\n",
       "      <td>0</td>\n",
       "      <td>0</td>\n",
       "      <td>...</td>\n",
       "      <td>0</td>\n",
       "      <td>0</td>\n",
       "      <td>0</td>\n",
       "      <td>0</td>\n",
       "      <td>0</td>\n",
       "      <td>0</td>\n",
       "      <td>0</td>\n",
       "      <td>0</td>\n",
       "      <td>0</td>\n",
       "      <td>0</td>\n",
       "    </tr>\n",
       "    <tr>\n",
       "      <th>3</th>\n",
       "      <td>4</td>\n",
       "      <td>0</td>\n",
       "      <td>0</td>\n",
       "      <td>0</td>\n",
       "      <td>0</td>\n",
       "      <td>0</td>\n",
       "      <td>0</td>\n",
       "      <td>0</td>\n",
       "      <td>0</td>\n",
       "      <td>0</td>\n",
       "      <td>...</td>\n",
       "      <td>0</td>\n",
       "      <td>0</td>\n",
       "      <td>0</td>\n",
       "      <td>0</td>\n",
       "      <td>0</td>\n",
       "      <td>0</td>\n",
       "      <td>0</td>\n",
       "      <td>0</td>\n",
       "      <td>0</td>\n",
       "      <td>0</td>\n",
       "    </tr>\n",
       "    <tr>\n",
       "      <th>4</th>\n",
       "      <td>0</td>\n",
       "      <td>0</td>\n",
       "      <td>0</td>\n",
       "      <td>0</td>\n",
       "      <td>0</td>\n",
       "      <td>0</td>\n",
       "      <td>0</td>\n",
       "      <td>0</td>\n",
       "      <td>0</td>\n",
       "      <td>0</td>\n",
       "      <td>...</td>\n",
       "      <td>0</td>\n",
       "      <td>0</td>\n",
       "      <td>0</td>\n",
       "      <td>0</td>\n",
       "      <td>0</td>\n",
       "      <td>0</td>\n",
       "      <td>0</td>\n",
       "      <td>0</td>\n",
       "      <td>0</td>\n",
       "      <td>0</td>\n",
       "    </tr>\n",
       "  </tbody>\n",
       "</table>\n",
       "<p>5 rows × 785 columns</p>\n",
       "</div>"
      ],
      "text/plain": [
       "   label  pixel0  pixel1  pixel2  pixel3  pixel4  pixel5  pixel6  pixel7  \\\n",
       "0      1       0       0       0       0       0       0       0       0   \n",
       "1      0       0       0       0       0       0       0       0       0   \n",
       "2      1       0       0       0       0       0       0       0       0   \n",
       "3      4       0       0       0       0       0       0       0       0   \n",
       "4      0       0       0       0       0       0       0       0       0   \n",
       "\n",
       "   pixel8  ...  pixel774  pixel775  pixel776  pixel777  pixel778  pixel779  \\\n",
       "0       0  ...         0         0         0         0         0         0   \n",
       "1       0  ...         0         0         0         0         0         0   \n",
       "2       0  ...         0         0         0         0         0         0   \n",
       "3       0  ...         0         0         0         0         0         0   \n",
       "4       0  ...         0         0         0         0         0         0   \n",
       "\n",
       "   pixel780  pixel781  pixel782  pixel783  \n",
       "0         0         0         0         0  \n",
       "1         0         0         0         0  \n",
       "2         0         0         0         0  \n",
       "3         0         0         0         0  \n",
       "4         0         0         0         0  \n",
       "\n",
       "[5 rows x 785 columns]"
      ]
     },
     "execution_count": 9,
     "metadata": {},
     "output_type": "execute_result"
    }
   ],
   "source": [
    "data.head()\n"
   ]
  },
  {
   "cell_type": "code",
   "execution_count": 10,
   "metadata": {
    "execution": {
     "iopub.execute_input": "2024-09-01T04:52:34.919865Z",
     "iopub.status.busy": "2024-09-01T04:52:34.919506Z",
     "iopub.status.idle": "2024-09-01T04:52:35.828053Z",
     "shell.execute_reply": "2024-09-01T04:52:35.826746Z",
     "shell.execute_reply.started": "2024-09-01T04:52:34.919829Z"
    },
    "trusted": true
   },
   "outputs": [],
   "source": [
    "data = np.array(data)\n",
    "m, n = data.shape\n",
    "np.random.shuffle(data) # shuffle before splitting into dev and training sets\n",
    "\n",
    "data_dev = data[0:1000].T\n",
    "Y_dev = data_dev[0]\n",
    "X_dev = data_dev[1:n]\n",
    "X_dev = X_dev / 255.\n",
    "\n",
    "data_train = data[1000:m].T\n",
    "Y_train = data_train[0]\n",
    "X_train = data_train[1:n]\n",
    "X_train = X_train / 255.\n",
    "_,m_train = X_train.shape"
   ]
  },
  {
   "cell_type": "code",
   "execution_count": 15,
   "metadata": {
    "execution": {
     "iopub.execute_input": "2024-09-01T04:52:35.829750Z",
     "iopub.status.busy": "2024-09-01T04:52:35.829390Z",
     "iopub.status.idle": "2024-09-01T04:52:35.844666Z",
     "shell.execute_reply": "2024-09-01T04:52:35.843540Z",
     "shell.execute_reply.started": "2024-09-01T04:52:35.829711Z"
    },
    "trusted": true
   },
   "outputs": [],
   "source": [
    "#X_train[:,0].shape\n",
    "def init_params():\n",
    "    W1 = np.random.rand(10, 784) - 0.5\n",
    "    b1 = np.random.rand(10, 1) - 0.5\n",
    "    W2 = np.random.rand(10, 10) - 0.5\n",
    "    b2 = np.random.rand(10, 1) - 0.5\n",
    "    return W1, b1, W2, b2\n",
    "\n",
    "def ReLU(Z):\n",
    "    return np.maximum(Z, 0)\n",
    "\n",
    "def softmax(Z):\n",
    "    A = np.exp(Z) / sum(np.exp(Z))\n",
    "    return A\n",
    "    \n",
    "def forward_prop(W1, b1, W2, b2, X):\n",
    "    Z1 = W1.dot(X) + b1\n",
    "    A1 = ReLU(Z1)\n",
    "    Z2 = W2.dot(A1) + b2\n",
    "    A2 = softmax(Z2)\n",
    "    return Z1, A1, Z2, A2\n",
    "\n",
    "def ReLU_deriv(Z):\n",
    "    return Z > 0\n",
    "\n",
    "def one_hot(Y):\n",
    "    one_hot_Y = np.zeros((Y.size, Y.max() + 1))\n",
    "    one_hot_Y[np.arange(Y.size), Y] = 1\n",
    "    one_hot_Y = one_hot_Y.T\n",
    "    return one_hot_Y\n",
    "\n",
    "def backward_prop(Z1, A1, Z2, A2, W1, W2, X, Y):\n",
    "    one_hot_Y = one_hot(Y)\n",
    "    dZ2 = A2 - one_hot_Y\n",
    "    dW2 = 1 / m * dZ2.dot(A1.T)\n",
    "    db2 = 1 / m * np.sum(dZ2)\n",
    "    dZ1 = W2.T.dot(dZ2) * ReLU_deriv(Z1)\n",
    "    dW1 = 1 / m * dZ1.dot(X.T)\n",
    "    db1 = 1 / m * np.sum(dZ1)\n",
    "    return dW1, db1, dW2, db2\n",
    "\n",
    "def update_params(W1, b1, W2, b2, dW1, db1, dW2, db2, alpha):\n",
    "    W1 = W1 - alpha * dW1\n",
    "    b1 = b1 - alpha * db1    \n",
    "    W2 = W2 - alpha * dW2  \n",
    "    b2 = b2 - alpha * db2    \n",
    "    return W1, b1, W2, b2\n",
    "    "
   ]
  },
  {
   "cell_type": "code",
   "execution_count": 16,
   "metadata": {
    "execution": {
     "iopub.execute_input": "2024-09-01T04:52:35.846561Z",
     "iopub.status.busy": "2024-09-01T04:52:35.846068Z",
     "iopub.status.idle": "2024-09-01T04:52:35.862526Z",
     "shell.execute_reply": "2024-09-01T04:52:35.861344Z",
     "shell.execute_reply.started": "2024-09-01T04:52:35.846513Z"
    },
    "trusted": true
   },
   "outputs": [],
   "source": [
    "def get_predictions(A2):\n",
    "    return np.argmax(A2, 0)\n",
    "\n",
    "def get_accuracy(predictions, Y):\n",
    "    print(predictions, Y)\n",
    "    return np.sum(predictions == Y) / Y.size\n",
    "\n",
    "def gradient_descent(X, Y, alpha, iterations):\n",
    "    W1, b1, W2, b2 = init_params()\n",
    "    for i in range(iterations):\n",
    "        Z1, A1, Z2, A2 = forward_prop(W1, b1, W2, b2, X)\n",
    "        dW1, db1, dW2, db2 = backward_prop(Z1, A1, Z2, A2, W1, W2, X, Y)\n",
    "        W1, b1, W2, b2 = update_params(W1, b1, W2, b2, dW1, db1, dW2, db2, alpha)\n",
    "        if i % 10 == 0:\n",
    "            print(\"Iteration: \", i)\n",
    "            predictions = get_predictions(A2)\n",
    "            print(get_accuracy(predictions, Y))\n",
    "    return W1, b1, W2, b2"
   ]
  },
  {
   "cell_type": "code",
   "execution_count": 17,
   "metadata": {
    "execution": {
     "iopub.execute_input": "2024-09-01T04:53:11.164417Z",
     "iopub.status.busy": "2024-09-01T04:53:11.163944Z",
     "iopub.status.idle": "2024-09-01T04:54:11.687031Z",
     "shell.execute_reply": "2024-09-01T04:54:11.685464Z",
     "shell.execute_reply.started": "2024-09-01T04:53:11.164378Z"
    },
    "trusted": true
   },
   "outputs": [
    {
     "name": "stdout",
     "output_type": "stream",
     "text": [
      "Iteration:  0\n",
      "[0 0 0 ... 0 7 0] [2 6 5 ... 6 1 1]\n",
      "0.10143902439024391\n",
      "Iteration:  10\n",
      "[3 6 6 ... 6 7 6] [2 6 5 ... 6 1 1]\n",
      "0.17429268292682926\n",
      "Iteration:  20\n",
      "[5 0 0 ... 0 7 7] [2 6 5 ... 6 1 1]\n",
      "0.2390731707317073\n",
      "Iteration:  30\n",
      "[3 6 0 ... 0 1 7] [2 6 5 ... 6 1 1]\n",
      "0.32807317073170733\n",
      "Iteration:  40\n",
      "[3 6 0 ... 6 1 7] [2 6 5 ... 6 1 1]\n",
      "0.3866341463414634\n",
      "Iteration:  50\n",
      "[3 6 0 ... 6 1 7] [2 6 5 ... 6 1 1]\n",
      "0.43765853658536585\n",
      "Iteration:  60\n",
      "[3 6 0 ... 6 1 7] [2 6 5 ... 6 1 1]\n",
      "0.48260975609756096\n",
      "Iteration:  70\n",
      "[3 6 0 ... 6 1 7] [2 6 5 ... 6 1 1]\n",
      "0.5205121951219512\n",
      "Iteration:  80\n",
      "[2 6 0 ... 6 1 1] [2 6 5 ... 6 1 1]\n",
      "0.5508780487804879\n",
      "Iteration:  90\n",
      "[2 6 0 ... 6 1 1] [2 6 5 ... 6 1 1]\n",
      "0.5762195121951219\n",
      "Iteration:  100\n",
      "[2 6 0 ... 6 1 1] [2 6 5 ... 6 1 1]\n",
      "0.5996829268292683\n",
      "Iteration:  110\n",
      "[2 6 0 ... 6 1 1] [2 6 5 ... 6 1 1]\n",
      "0.6213414634146341\n",
      "Iteration:  120\n",
      "[2 6 0 ... 6 1 1] [2 6 5 ... 6 1 1]\n",
      "0.639390243902439\n",
      "Iteration:  130\n",
      "[2 6 5 ... 6 1 1] [2 6 5 ... 6 1 1]\n",
      "0.6567317073170732\n",
      "Iteration:  140\n",
      "[2 6 5 ... 6 1 1] [2 6 5 ... 6 1 1]\n",
      "0.6713658536585366\n",
      "Iteration:  150\n",
      "[2 6 5 ... 6 1 1] [2 6 5 ... 6 1 1]\n",
      "0.6835609756097561\n",
      "Iteration:  160\n",
      "[2 6 5 ... 6 1 1] [2 6 5 ... 6 1 1]\n",
      "0.6953170731707317\n",
      "Iteration:  170\n",
      "[2 6 5 ... 6 1 1] [2 6 5 ... 6 1 1]\n",
      "0.7053414634146341\n",
      "Iteration:  180\n",
      "[2 6 5 ... 6 1 1] [2 6 5 ... 6 1 1]\n",
      "0.7143658536585366\n",
      "Iteration:  190\n",
      "[2 6 5 ... 6 1 1] [2 6 5 ... 6 1 1]\n",
      "0.7219024390243902\n",
      "Iteration:  200\n",
      "[2 6 5 ... 6 1 1] [2 6 5 ... 6 1 1]\n",
      "0.7288780487804878\n",
      "Iteration:  210\n",
      "[2 6 5 ... 6 1 1] [2 6 5 ... 6 1 1]\n",
      "0.7344390243902439\n",
      "Iteration:  220\n",
      "[2 6 5 ... 6 1 1] [2 6 5 ... 6 1 1]\n",
      "0.7411463414634146\n",
      "Iteration:  230\n",
      "[2 6 5 ... 6 1 1] [2 6 5 ... 6 1 1]\n",
      "0.7460731707317073\n",
      "Iteration:  240\n",
      "[2 6 5 ... 6 1 1] [2 6 5 ... 6 1 1]\n",
      "0.7508048780487805\n",
      "Iteration:  250\n",
      "[2 6 5 ... 6 1 1] [2 6 5 ... 6 1 1]\n",
      "0.7556585365853659\n",
      "Iteration:  260\n",
      "[2 6 5 ... 6 1 1] [2 6 5 ... 6 1 1]\n",
      "0.7603170731707317\n",
      "Iteration:  270\n",
      "[2 6 5 ... 6 1 1] [2 6 5 ... 6 1 1]\n",
      "0.7653170731707317\n",
      "Iteration:  280\n",
      "[2 6 5 ... 6 1 1] [2 6 5 ... 6 1 1]\n",
      "0.7696829268292683\n",
      "Iteration:  290\n",
      "[2 6 5 ... 6 1 1] [2 6 5 ... 6 1 1]\n",
      "0.773\n",
      "Iteration:  300\n",
      "[2 6 5 ... 6 1 1] [2 6 5 ... 6 1 1]\n",
      "0.7761707317073171\n",
      "Iteration:  310\n",
      "[2 6 5 ... 6 1 1] [2 6 5 ... 6 1 1]\n",
      "0.7796829268292683\n",
      "Iteration:  320\n",
      "[2 6 5 ... 6 1 1] [2 6 5 ... 6 1 1]\n",
      "0.7825609756097561\n",
      "Iteration:  330\n",
      "[2 6 5 ... 6 1 1] [2 6 5 ... 6 1 1]\n",
      "0.7855609756097561\n",
      "Iteration:  340\n",
      "[2 6 5 ... 6 1 1] [2 6 5 ... 6 1 1]\n",
      "0.7879756097560976\n",
      "Iteration:  350\n",
      "[2 6 5 ... 6 1 1] [2 6 5 ... 6 1 1]\n",
      "0.791\n",
      "Iteration:  360\n",
      "[2 6 5 ... 6 1 1] [2 6 5 ... 6 1 1]\n",
      "0.7934878048780488\n",
      "Iteration:  370\n",
      "[2 6 5 ... 6 1 1] [2 6 5 ... 6 1 1]\n",
      "0.7965853658536586\n",
      "Iteration:  380\n",
      "[2 6 5 ... 6 1 1] [2 6 5 ... 6 1 1]\n",
      "0.7992926829268293\n",
      "Iteration:  390\n",
      "[2 6 5 ... 6 1 1] [2 6 5 ... 6 1 1]\n",
      "0.8015365853658537\n",
      "Iteration:  400\n",
      "[2 6 5 ... 6 1 1] [2 6 5 ... 6 1 1]\n",
      "0.8038780487804879\n",
      "Iteration:  410\n",
      "[2 6 5 ... 6 1 1] [2 6 5 ... 6 1 1]\n",
      "0.8062682926829269\n",
      "Iteration:  420\n",
      "[2 6 5 ... 6 1 1] [2 6 5 ... 6 1 1]\n",
      "0.8078048780487805\n",
      "Iteration:  430\n",
      "[2 6 5 ... 6 1 1] [2 6 5 ... 6 1 1]\n",
      "0.8101463414634147\n",
      "Iteration:  440\n",
      "[2 6 5 ... 6 1 1] [2 6 5 ... 6 1 1]\n",
      "0.8120731707317074\n",
      "Iteration:  450\n",
      "[2 6 5 ... 6 1 1] [2 6 5 ... 6 1 1]\n",
      "0.8138780487804878\n",
      "Iteration:  460\n",
      "[2 6 5 ... 6 1 1] [2 6 5 ... 6 1 1]\n",
      "0.8156585365853658\n",
      "Iteration:  470\n",
      "[2 6 5 ... 6 1 1] [2 6 5 ... 6 1 1]\n",
      "0.8176341463414634\n",
      "Iteration:  480\n",
      "[2 6 5 ... 6 1 1] [2 6 5 ... 6 1 1]\n",
      "0.8194146341463414\n",
      "Iteration:  490\n",
      "[2 6 5 ... 6 1 1] [2 6 5 ... 6 1 1]\n",
      "0.8216585365853658\n"
     ]
    }
   ],
   "source": [
    "W1, b1, W2, b2 = gradient_descent(X_train, Y_train, 0.10, 500)"
   ]
  },
  {
   "cell_type": "code",
   "execution_count": 19,
   "metadata": {
    "execution": {
     "iopub.execute_input": "2024-09-01T04:55:19.354083Z",
     "iopub.status.busy": "2024-09-01T04:55:19.353110Z",
     "iopub.status.idle": "2024-09-01T04:55:19.363596Z",
     "shell.execute_reply": "2024-09-01T04:55:19.362182Z",
     "shell.execute_reply.started": "2024-09-01T04:55:19.354027Z"
    },
    "trusted": true
   },
   "outputs": [],
   "source": [
    "def make_predictions(X, W1, b1, W2, b2):\n",
    "    _, _, _, A2 = forward_prop(W1, b1, W2, b2, X)\n",
    "    predictions = get_predictions(A2)\n",
    "    return predictions\n",
    "\n",
    "def test_prediction(index, W1, b1, W2, b2):\n",
    "    current_image = X_train[:, index, None]\n",
    "    prediction = make_predictions(X_train[:, index, None], W1, b1, W2, b2)\n",
    "    label = Y_train[index]\n",
    "    print(\"Prediction: \", prediction)\n",
    "    print(\"Label: \", label)\n",
    "    \n",
    "    current_image = current_image.reshape((28, 28)) * 255\n",
    "    plt.gray()\n",
    "    plt.imshow(current_image, interpolation='nearest')\n",
    "    plt.show()"
   ]
  },
  {
   "cell_type": "code",
   "execution_count": 24,
   "metadata": {
    "execution": {
     "iopub.execute_input": "2024-09-01T04:55:34.306097Z",
     "iopub.status.busy": "2024-09-01T04:55:34.305578Z",
     "iopub.status.idle": "2024-09-01T04:55:35.326589Z",
     "shell.execute_reply": "2024-09-01T04:55:35.325274Z",
     "shell.execute_reply.started": "2024-09-01T04:55:34.306047Z"
    },
    "trusted": true
   },
   "outputs": [
    {
     "name": "stdout",
     "output_type": "stream",
     "text": [
      "Prediction:  [2]\n",
      "Label:  2\n"
     ]
    },
    {
     "data": {
      "image/png": "[encoded data removed]",
      "text/plain": [
       "<Figure size 640x480 with 1 Axes>"
      ]
     },
     "metadata": {},
     "output_type": "display_data"
    },
    {
     "name": "stdout",
     "output_type": "stream",
     "text": [
      "Prediction:  [6]\n",
      "Label:  6\n"
     ]
    },
    {
     "data": {
      "image/png": "[encoded data removed]",
      "text/plain": [
       "<Figure size 640x480 with 1 Axes>"
      ]
     },
     "metadata": {},
     "output_type": "display_data"
    },
    {
     "name": "stdout",
     "output_type": "stream",
     "text": [
      "Prediction:  [5]\n",
      "Label:  5\n"
     ]
    },
    {
     "data": {
      "image/png": "[encoded data removed]",
      "text/plain": [
       "<Figure size 640x480 with 1 Axes>"
      ]
     },
     "metadata": {},
     "output_type": "display_data"
    },
    {
     "name": "stdout",
     "output_type": "stream",
     "text": [
      "Prediction:  [9]\n",
      "Label:  9\n"
     ]
    },
    {
     "data": {
      "image/png": "[encoded data removed]",
      "text/plain": [
       "<Figure size 640x480 with 1 Axes>"
      ]
     },
     "metadata": {},
     "output_type": "display_data"
    }
   ],
   "source": [
    "test_prediction(0, W1, b1, W2, b2)\n",
    "test_prediction(1, W1, b1, W2, b2)\n",
    "test_prediction(2, W1, b1, W2, b2)\n",
    "test_prediction(5, W1, b1, W2, b2)"
   ]
  },
  {
   "cell_type": "code",
   "execution_count": 25,
   "metadata": {
    "execution": {
     "iopub.execute_input": "2024-09-01T04:56:03.416358Z",
     "iopub.status.busy": "2024-09-01T04:56:03.415661Z",
     "iopub.status.idle": "2024-09-01T04:56:03.454759Z",
     "shell.execute_reply": "2024-09-01T04:56:03.453328Z",
     "shell.execute_reply.started": "2024-09-01T04:56:03.416302Z"
    },
    "trusted": true
   },
   "outputs": [
    {
     "name": "stdout",
     "output_type": "stream",
     "text": [
      "[2 7 9 7 6 7 1 0 9 8 9 7 4 7 7 1 7 4 1 0 8 8 2 9 0 0 3 9 9 2 9 8 0 7 8 3 1\n",
      " 0 3 1 3 0 6 1 4 7 4 9 6 4 3 3 6 4 9 4 8 8 2 7 2 9 4 6 2 9 2 8 4 4 5 0 0 4\n",
      " 8 4 0 9 9 1 0 1 5 0 5 8 9 1 5 0 8 3 1 9 5 2 1 7 1 4 2 4 6 9 8 1 9 4 3 8 7\n",
      " 4 9 1 8 2 9 8 8 8 0 1 1 7 3 0 1 0 2 6 1 6 2 6 3 0 5 5 1 8 4 1 2 9 1 9 5 8\n",
      " 3 3 2 3 3 3 3 1 9 0 6 1 1 4 1 0 8 0 0 8 3 1 9 4 3 3 0 0 9 3 0 9 5 4 8 6 1\n",
      " 1 2 1 3 2 1 4 1 7 1 0 4 3 3 7 3 6 9 4 6 8 4 9 1 5 0 8 4 9 9 4 7 7 5 5 0 2\n",
      " 6 4 7 4 4 6 3 2 1 1 0 9 9 3 2 9 6 7 0 8 1 8 6 6 9 6 2 6 1 8 1 9 5 2 4 7 8\n",
      " 3 1 7 5 5 7 3 4 6 1 1 2 4 7 7 2 3 3 0 2 9 3 5 2 0 5 3 4 3 2 1 1 5 8 3 9 5\n",
      " 6 5 4 7 7 8 5 8 1 1 6 4 7 6 7 9 2 6 9 0 9 9 6 8 1 3 9 9 7 8 7 1 2 6 8 2 9\n",
      " 5 8 9 0 2 3 6 1 6 3 7 6 7 7 2 9 4 7 8 4 2 4 6 0 8 1 9 3 0 1 3 0 6 0 3 5 7\n",
      " 8 4 9 1 7 8 0 7 9 9 3 4 3 4 2 9 8 0 0 3 7 4 8 3 6 0 6 8 2 2 1 7 4 4 9 6 1\n",
      " 7 2 0 6 9 7 1 8 2 5 7 8 0 7 1 8 9 6 0 7 6 7 6 0 5 7 6 9 1 8 0 4 1 8 7 9 9\n",
      " 0 0 8 5 0 6 3 4 1 3 8 1 5 7 0 1 7 7 0 1 5 6 2 7 1 7 8 7 4 3 9 1 6 1 1 1 2\n",
      " 3 2 2 7 8 8 1 3 7 8 5 1 4 2 7 9 8 8 4 5 5 0 1 8 5 5 3 5 1 7 0 3 8 0 9 8 4\n",
      " 7 4 4 4 9 1 1 4 8 7 4 7 1 4 5 2 8 6 3 1 1 6 8 6 6 8 5 3 4 4 9 3 1 2 6 6 6\n",
      " 0 2 7 1 3 3 2 9 9 2 8 5 9 7 1 9 0 4 2 7 9 3 2 0 7 2 3 0 2 9 0 9 8 1 0 8 8\n",
      " 4 9 8 6 8 5 2 3 8 6 9 5 3 1 4 5 6 1 5 6 6 0 2 1 8 1 7 9 2 3 3 2 7 0 0 7 8\n",
      " 1 5 3 6 6 1 9 8 2 1 6 6 6 3 1 0 3 6 0 0 5 2 3 1 1 2 4 9 1 6 7 7 7 1 8 6 7\n",
      " 4 0 6 6 1 4 5 8 3 2 9 2 6 3 6 4 5 8 7 4 1 2 8 7 1 7 8 3 6 8 1 3 6 2 7 1 8\n",
      " 0 9 1 3 4 6 2 7 6 1 4 3 6 1 5 7 6 3 6 1 5 2 9 5 9 4 4 2 4 7 7 5 6 2 8 9 5\n",
      " 3 7 7 0 1 1 4 2 6 9 2 0 8 7 2 7 0 1 1 0 0 5 0 0 2 1 4 7 4 3 4 3 9 2 2 0 4\n",
      " 9 1 0 5 3 6 7 6 5 5 9 8 9 5 4 0 5 2 9 0 1 7 5 7 8 4 9 3 3 6 8 5 7 8 1 8 8\n",
      " 9 6 1 9 9 0 4 7 7 0 6 4 8 4 6 0 0 1 3 8 1 2 4 2 9 3 4 6 1 6 8 2 1 6 2 2 0\n",
      " 4 2 3 7 3 2 5 3 7 4 2 5 3 8 6 3 9 7 3 9 4 6 0 5 7 3 0 4 1 7 4 9 3 1 9 1 0\n",
      " 9 9 6 8 7 4 8 3 7 8 4 7 6 9 1 2 4 7 2 7 0 1 1 3 5 1 2 2 1 7 5 1 0 4 2 3 7\n",
      " 3 0 2 9 8 2 7 1 5 9 1 1 9 3 9 7 8 1 8 5 0 2 9 8 2 8 2 3 6 3 9 0 4 8 0 4 7\n",
      " 3 6 0 8 1 4 0 7 0 0 6 3 0 6 7 0 6 0 2 4 2 4 3 3 6 5 9 5 5 7 5 3 3 0 1 1 7\n",
      " 8] [2 7 9 8 6 7 1 0 9 8 9 7 8 7 7 1 7 4 1 0 8 8 2 9 0 0 3 7 9 2 9 8 0 9 8 3 1\n",
      " 0 3 1 3 0 6 1 4 7 4 5 6 4 2 3 6 4 4 4 8 8 1 7 2 9 4 6 2 9 2 8 4 4 5 0 0 4\n",
      " 8 7 0 9 9 1 0 1 5 0 5 8 4 1 5 0 5 3 1 9 5 2 1 7 1 4 5 4 6 9 5 1 9 4 3 8 4\n",
      " 4 9 1 8 2 9 4 4 8 0 1 1 7 3 0 1 0 2 5 1 6 2 6 3 0 5 5 1 8 4 1 2 7 1 9 5 8\n",
      " 5 3 5 3 3 3 3 1 9 0 2 1 7 7 1 0 7 0 0 8 3 1 4 4 5 3 0 0 9 3 0 9 5 4 8 6 1\n",
      " 1 2 1 3 6 2 4 1 7 8 0 4 3 8 7 5 6 4 4 6 8 4 9 1 5 0 8 4 9 9 4 7 7 8 6 0 2\n",
      " 6 4 3 4 4 6 3 2 1 1 0 9 9 3 2 9 6 7 0 8 1 8 6 6 9 6 2 4 8 8 8 4 5 2 4 7 5\n",
      " 3 1 7 3 5 7 3 9 6 1 1 2 4 7 7 5 3 5 0 2 4 3 5 2 0 5 3 2 3 2 1 1 5 8 3 9 5\n",
      " 6 3 3 7 7 8 3 8 1 8 6 4 7 6 7 5 2 6 8 0 9 9 6 8 1 3 4 9 9 8 7 1 0 6 8 0 4\n",
      " 3 6 6 6 2 3 6 1 0 3 7 6 7 7 2 9 4 5 8 4 2 4 6 0 8 1 9 3 0 1 3 0 6 0 3 5 7\n",
      " 8 4 9 8 7 8 0 9 9 9 3 6 3 4 2 9 8 0 6 3 9 9 8 3 3 9 6 8 2 2 1 7 2 4 7 6 1\n",
      " 7 2 0 6 9 7 1 8 0 5 7 5 0 7 1 5 9 6 0 9 6 7 6 0 5 7 6 9 1 8 0 4 1 8 3 9 5\n",
      " 0 0 8 5 0 6 3 4 1 3 8 3 5 7 0 1 7 7 0 1 5 6 6 7 1 7 8 7 4 3 9 1 6 1 1 1 2\n",
      " 3 2 1 7 8 2 8 8 7 8 5 1 4 2 7 9 8 5 4 5 5 0 1 8 5 8 3 2 1 7 0 1 8 0 9 8 4\n",
      " 7 4 4 4 9 8 1 4 8 7 6 7 1 9 3 2 9 6 3 1 1 6 8 6 6 5 5 8 4 7 9 3 1 2 6 6 6\n",
      " 0 2 9 1 5 3 2 7 9 2 8 5 9 7 1 5 0 4 2 7 9 3 2 0 7 2 3 0 2 9 2 4 8 1 0 8 8\n",
      " 4 9 6 6 8 5 2 3 8 6 9 5 5 1 4 5 6 1 7 0 4 0 2 1 8 1 7 9 2 3 3 2 7 0 0 7 8\n",
      " 1 5 3 6 6 1 9 3 8 1 6 6 6 5 1 0 3 6 0 0 5 2 5 9 1 2 4 9 1 6 7 7 7 1 8 6 2\n",
      " 4 2 6 0 1 9 5 8 3 2 9 3 6 3 6 4 5 5 7 4 1 2 5 7 1 7 8 3 6 8 8 3 0 2 7 8 8\n",
      " 0 9 1 3 4 6 2 7 6 1 4 3 6 1 5 7 6 3 6 1 6 2 9 5 9 4 4 2 4 7 7 5 6 2 3 9 5\n",
      " 3 7 7 0 1 1 4 2 6 9 2 0 8 7 2 7 6 1 1 0 0 5 0 6 7 1 4 7 4 3 4 3 9 2 2 0 4\n",
      " 9 8 0 5 3 6 7 6 6 5 8 8 9 6 4 0 5 2 9 0 9 7 5 7 1 6 9 3 3 6 8 5 9 8 1 8 9\n",
      " 7 6 1 9 7 0 4 7 7 0 6 4 5 4 6 0 3 1 3 8 1 2 9 2 9 3 4 6 9 6 8 2 1 6 2 2 0\n",
      " 4 9 3 7 3 2 5 3 7 4 6 5 3 8 6 8 9 7 3 5 4 6 0 5 7 5 0 4 1 7 4 9 2 7 4 1 0\n",
      " 9 9 6 2 7 4 8 3 7 8 4 7 6 9 1 2 7 7 2 7 0 1 1 3 5 1 2 2 1 7 5 1 0 4 2 3 2\n",
      " 3 0 2 9 5 5 7 1 5 9 1 2 8 3 9 7 8 1 8 5 7 2 8 5 2 8 2 8 6 3 9 0 4 8 0 4 7\n",
      " 3 6 0 8 1 4 0 7 0 0 0 3 0 6 7 0 6 0 2 4 7 6 3 9 6 5 5 3 5 5 8 3 3 0 1 1 7\n",
      " 8]\n"
     ]
    },
    {
     "data": {
      "text/plain": [
       "0.83"
      ]
     },
     "execution_count": 25,
     "metadata": {},
     "output_type": "execute_result"
    }
   ],
   "source": [
    "dev_predictions = make_predictions(X_dev, W1, b1, W2, b2)\n",
    "get_accuracy(dev_predictions, Y_dev)"
   ]
  }
 ],
 "metadata": {
  "kaggle": {
   "accelerator": "none",
   "dataSources": [
    {
     "databundleVersionId": 861823,
     "sourceId": 3004,
     "sourceType": "competition"
    }
   ],
   "dockerImageVersionId": 30761,
   "isGpuEnabled": false,
   "isInternetEnabled": false,
   "language": "python",
   "sourceType": "notebook"
  },
  "kernelspec": {
   "display_name": "Python 3",
   "language": "python",
   "name": "python3"
  },
  "language_info": {
   "codemirror_mode": {
    "name": "ipython",
    "version": 3
   },
   "file_extension": ".py",
   "mimetype": "text/x-python",
   "name": "python",
   "nbconvert_exporter": "python",
   "pygments_lexer": "ipython3",
   "version": "3.12.6"
  }
 },
 "nbformat": 4,
 "nbformat_minor": 4
}
